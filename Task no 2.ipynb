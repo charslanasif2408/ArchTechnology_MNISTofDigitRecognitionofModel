{
 "cells": [
  {
   "cell_type": "code",
   "execution_count": 2,
   "id": "2521f479",
   "metadata": {},
   "outputs": [
    {
     "name": "stdout",
     "output_type": "stream",
     "text": [
      "Training data shape: (60000, 28, 28)\n",
      "Test data shape: (10000, 28, 28)\n",
      "Model: \"sequential\"\n",
      "_________________________________________________________________\n",
      " Layer (type)                Output Shape              Param #   \n",
      "=================================================================\n",
      " flatten (Flatten)           (None, 784)               0         \n",
      "                                                                 \n",
      " dense (Dense)               (None, 128)               100480    \n",
      "                                                                 \n",
      " dense_1 (Dense)             (None, 64)                8256      \n",
      "                                                                 \n",
      " dense_2 (Dense)             (None, 10)                650       \n",
      "                                                                 \n",
      "=================================================================\n",
      "Total params: 109386 (427.29 KB)\n",
      "Trainable params: 109386 (427.29 KB)\n",
      "Non-trainable params: 0 (0.00 Byte)\n",
      "_________________________________________________________________\n",
      "Epoch 1/10\n",
      "1688/1688 [==============================] - 28s 13ms/step - loss: 0.2540 - accuracy: 0.9260 - val_loss: 0.1237 - val_accuracy: 0.9618\n",
      "Epoch 2/10\n",
      "1688/1688 [==============================] - 24s 14ms/step - loss: 0.1078 - accuracy: 0.9667 - val_loss: 0.0861 - val_accuracy: 0.9745\n",
      "Epoch 3/10\n",
      "1688/1688 [==============================] - 24s 14ms/step - loss: 0.0746 - accuracy: 0.9763 - val_loss: 0.0874 - val_accuracy: 0.9737\n",
      "Epoch 4/10\n",
      "1688/1688 [==============================] - 20s 12ms/step - loss: 0.0560 - accuracy: 0.9820 - val_loss: 0.0744 - val_accuracy: 0.9797\n",
      "Epoch 5/10\n",
      "1688/1688 [==============================] - 21s 12ms/step - loss: 0.0439 - accuracy: 0.9855 - val_loss: 0.0874 - val_accuracy: 0.9760\n",
      "Epoch 6/10\n",
      "1688/1688 [==============================] - 27s 16ms/step - loss: 0.0339 - accuracy: 0.9886 - val_loss: 0.0899 - val_accuracy: 0.9765\n",
      "Epoch 7/10\n",
      "1688/1688 [==============================] - 30s 17ms/step - loss: 0.0310 - accuracy: 0.9900 - val_loss: 0.0799 - val_accuracy: 0.9797\n",
      "Epoch 8/10\n",
      "1688/1688 [==============================] - 29s 17ms/step - loss: 0.0244 - accuracy: 0.9919 - val_loss: 0.1097 - val_accuracy: 0.9745\n",
      "Epoch 9/10\n",
      "1688/1688 [==============================] - 19s 11ms/step - loss: 0.0237 - accuracy: 0.9919 - val_loss: 0.0958 - val_accuracy: 0.9770\n",
      "Epoch 10/10\n",
      "1688/1688 [==============================] - 20s 12ms/step - loss: 0.0182 - accuracy: 0.9941 - val_loss: 0.1002 - val_accuracy: 0.9785\n",
      "313/313 [==============================] - 3s 9ms/step - loss: 0.1108 - accuracy: 0.9740\n",
      "\n",
      "✅ Test accuracy: 97.40%\n"
     ]
    },
    {
     "name": "stderr",
     "output_type": "stream",
     "text": [
      "C:\\ProgramData\\Anaconda3\\lib\\site-packages\\keras\\src\\engine\\training.py:3000: UserWarning: You are saving your model as an HDF5 file via `model.save()`. This file format is considered legacy. We recommend using instead the native Keras format, e.g. `model.save('my_model.keras')`.\n",
      "  saving_api.save_model(\n"
     ]
    },
    {
     "name": "stdout",
     "output_type": "stream",
     "text": [
      "✅ Model saved as 'mnist_digit_model.h5'\n"
     ]
    },
    {
     "data": {
      "image/png": "[encoded data removed]",
      "text/plain": [
       "<Figure size 432x288 with 1 Axes>"
      ]
     },
     "metadata": {
      "needs_background": "light"
     },
     "output_type": "display_data"
    }
   ],
   "source": [
    "# ======================\n",
    "# Install Dependencies (if not already)\n",
    "# ======================\n",
    "# !pip install tensorflow numpy matplotlib\n",
    "\n",
    "import numpy as np\n",
    "import matplotlib.pyplot as plt\n",
    "import tensorflow as tf\n",
    "from tensorflow.keras.models import Sequential\n",
    "from tensorflow.keras.layers import Dense, Flatten\n",
    "from tensorflow.keras.utils import to_categorical\n",
    "from tensorflow.keras.datasets import mnist\n",
    "\n",
    "# ======================\n",
    "# Step 1: Load Dataset\n",
    "# ======================\n",
    "(x_train, y_train), (x_test, y_test) = mnist.load_data()\n",
    "\n",
    "print(\"Training data shape:\", x_train.shape)\n",
    "print(\"Test data shape:\", x_test.shape)\n",
    "\n",
    "# ======================\n",
    "# Step 2: Preprocess Data\n",
    "# ======================\n",
    "# Normalize images to [0, 1]\n",
    "x_train = x_train / 255.0\n",
    "x_test = x_test / 255.0\n",
    "\n",
    "# One-hot encode the labels\n",
    "y_train_cat = to_categorical(y_train, 10)\n",
    "y_test_cat = to_categorical(y_test, 10)\n",
    "\n",
    "# ======================\n",
    "# Step 3: Build the Model\n",
    "# ======================\n",
    "model = Sequential([\n",
    "    Flatten(input_shape=(28, 28)),       # Convert 2D image to 1D vector\n",
    "    Dense(128, activation='relu'),       # Hidden layer\n",
    "    Dense(64, activation='relu'),        # Hidden layer\n",
    "    Dense(10, activation='softmax')      # Output layer (10 classes)\n",
    "])\n",
    "\n",
    "model.compile(optimizer='adam',\n",
    "              loss='categorical_crossentropy',\n",
    "              metrics=['accuracy'])\n",
    "\n",
    "model.summary()\n",
    "\n",
    "# ======================\n",
    "# Step 4: Train the Model\n",
    "# ======================\n",
    "history = model.fit(x_train, y_train_cat,\n",
    "                    validation_split=0.1,\n",
    "                    epochs=10,\n",
    "                    batch_size=32)\n",
    "\n",
    "# ======================\n",
    "# Step 5: Evaluate the Model\n",
    "# ======================\n",
    "test_loss, test_acc = model.evaluate(x_test, y_test_cat)\n",
    "print(f\"\\n✅ Test accuracy: {test_acc * 100:.2f}%\")\n",
    "\n",
    "# ======================\n",
    "# Step 6: Save the Model\n",
    "# ======================\n",
    "model.save(\"mnist_digit_model.h5\")\n",
    "print(\"✅ Model saved as 'mnist_digit_model.h5'\")\n",
    "\n",
    "# ======================\n",
    "# Optional: Plot Training History\n",
    "# ======================\n",
    "plt.plot(history.history['accuracy'], label='Train Accuracy')\n",
    "plt.plot(history.history['val_accuracy'], label='Validation Accuracy')\n",
    "plt.title('Training Accuracy')\n",
    "plt.xlabel('Epoch')\n",
    "plt.ylabel('Accuracy')\n",
    "plt.legend()\n",
    "plt.grid(True)\n",
    "plt.show()\n"
   ]
  },
  {
   "cell_type": "code",
   "execution_count": 1,
   "id": "51e8a0ba",
   "metadata": {},
   "outputs": [
    {
     "name": "stdout",
     "output_type": "stream",
     "text": [
      "Downloading data from https://storage.googleapis.com/tensorflow/tf-keras-datasets/mnist.npz\n",
      "11490434/11490434 [==============================] - 25s 2us/step\n"
     ]
    }
   ],
   "source": [
    "from tensorflow.keras.datasets import mnist\n",
    "(x_train, y_train), (x_test, y_test) = mnist.load_data()"
   ]
  },
  {
   "cell_type": "code",
   "execution_count": 3,
   "id": "8e6048bf",
   "metadata": {},
   "outputs": [
    {
     "data": {
      "image/png": "[encoded data removed]",
      "text/plain": [
       "<Figure size 432x288 with 1 Axes>"
      ]
     },
     "metadata": {
      "needs_background": "light"
     },
     "output_type": "display_data"
    },
    {
     "name": "stdout",
     "output_type": "stream",
     "text": [
      "1/1 [==============================] - 1s 542ms/step\n",
      "🔍 Predicted Digit: 7\n"
     ]
    }
   ],
   "source": [
    "# Load the saved model\n",
    "from tensorflow.keras.models import load_model\n",
    "\n",
    "model = load_model(\"mnist_digit_model.h5\")\n",
    "\n",
    "# Predict a test image\n",
    "import random\n",
    "index = random.randint(0, len(x_test)-1)\n",
    "sample_image = x_test[index]\n",
    "\n",
    "plt.imshow(sample_image, cmap='gray')\n",
    "plt.title(\"True Label: \" + str(y_test[index]))\n",
    "plt.axis('off')\n",
    "plt.show()\n",
    "\n",
    "# Model prediction\n",
    "prediction = np.argmax(model.predict(sample_image.reshape(1, 28, 28)))\n",
    "print(\"🔍 Predicted Digit:\", prediction)"
   ]
  },
  {
   "cell_type": "code",
   "execution_count": null,
   "id": "52c461c4",
   "metadata": {},
   "outputs": [],
   "source": []
  }
 ],
 "metadata": {
  "kernelspec": {
   "display_name": "Python 3",
   "language": "python",
   "name": "python3"
  },
  "language_info": {
   "codemirror_mode": {
    "name": "ipython",
    "version": 3
   },
   "file_extension": ".py",
   "mimetype": "text/x-python",
   "name": "python",
   "nbconvert_exporter": "python",
   "pygments_lexer": "ipython3",
   "version": "3.8.8"
  }
 },
 "nbformat": 4,
 "nbformat_minor": 5
}
